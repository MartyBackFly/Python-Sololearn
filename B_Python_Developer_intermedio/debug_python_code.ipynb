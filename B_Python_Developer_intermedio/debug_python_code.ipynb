{
 "cells": [
  {
   "cell_type": "code",
   "execution_count": 7,
   "metadata": {},
   "outputs": [
    {
     "name": "stdout",
     "output_type": "stream",
     "text": [
      "False\n",
      "False\n"
     ]
    }
   ],
   "source": [
    "def is_evenpar(x):\n",
    "    if x == 0:\n",
    "        return True\n",
    "    else:\n",
    "        return is_oddimpar(x - 1)\n",
    "\n",
    "def is_oddimpar(x):\n",
    "    return not is_evenpar(x)\n",
    "\n",
    "print(is_oddimpar(2))\n",
    "print(is_evenpar(3))"
   ]
  },
  {
   "cell_type": "markdown",
   "metadata": {},
   "source": []
  },
  {
   "cell_type": "code",
   "execution_count": 6,
   "metadata": {},
   "outputs": [
    {
     "ename": "ValueError",
     "evalue": "invalid literal for int() with base 10: ''",
     "output_type": "error",
     "traceback": [
      "\u001b[1;31m---------------------------------------------------------------------------\u001b[0m",
      "\u001b[1;31mValueError\u001b[0m                                Traceback (most recent call last)",
      "Cell \u001b[1;32mIn[6], line 11\u001b[0m\n\u001b[0;32m      9\u001b[0m     \u001b[38;5;28mprint\u001b[39m(decimal_number \u001b[38;5;241m/\u001b[39m\u001b[38;5;241m/\u001b[39m\u001b[38;5;241m2\u001b[39m)\n\u001b[0;32m     10\u001b[0m \u001b[38;5;66;03m# Solicitar entrada al usuario\u001b[39;00m\n\u001b[1;32m---> 11\u001b[0m decimal_input \u001b[38;5;241m=\u001b[39m \u001b[38;5;28;43mint\u001b[39;49m\u001b[43m(\u001b[49m\u001b[38;5;28;43minput\u001b[39;49m\u001b[43m(\u001b[49m\u001b[38;5;124;43m\"\u001b[39;49m\u001b[38;5;124;43mpone numerito -->\u001b[39;49m\u001b[38;5;124;43m\"\u001b[39;49m\u001b[43m)\u001b[49m\u001b[43m)\u001b[49m\n\u001b[0;32m     13\u001b[0m \u001b[38;5;66;03m# Llamar a la función convert() e imprimir el resultado\u001b[39;00m\n\u001b[0;32m     14\u001b[0m binary_result \u001b[38;5;241m=\u001b[39m convert(decimal_input)\n",
      "\u001b[1;31mValueError\u001b[0m: invalid literal for int() with base 10: ''"
     ]
    }
   ],
   "source": [
    "def convert(decimal_number):\n",
    "    if decimal_number == 0:\n",
    "        return \"0\"\n",
    "    elif decimal_number == 1:\n",
    "        return \"1\"\n",
    "    else:\n",
    "        return convert(decimal_number // 2) + str(decimal_number % 2)\n",
    "    print(decimal_number % 2)\n",
    "    print(decimal_number //2)\n",
    "# Solicitar entrada al usuario\n",
    "decimal_input = int(input(\"pone numerito -->\"))\n",
    "\n",
    "# Llamar a la función convert() e imprimir el resultado\n",
    "binary_result = convert(decimal_input)\n",
    "print(binary_result)\n"
   ]
  },
  {
   "cell_type": "markdown",
   "metadata": {},
   "source": [
    "asd"
   ]
  }
 ],
 "metadata": {
  "kernelspec": {
   "display_name": "Python 3",
   "language": "python",
   "name": "python3"
  },
  "language_info": {
   "codemirror_mode": {
    "name": "ipython",
    "version": 3
   },
   "file_extension": ".py",
   "mimetype": "text/x-python",
   "name": "python",
   "nbconvert_exporter": "python",
   "pygments_lexer": "ipython3",
   "version": "3.10.8"
  }
 },
 "nbformat": 4,
 "nbformat_minor": 2
}
